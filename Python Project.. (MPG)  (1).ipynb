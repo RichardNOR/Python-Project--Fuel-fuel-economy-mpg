{
 "cells": [
  {
   "cell_type": "markdown",
   "id": "fc21cac9-f1db-4971-a6a3-78adaa8d0b1e",
   "metadata": {},
   "source": [
    "# Analysis of Fuel Economy (MPG)"
   ]
  },
  {
   "cell_type": "code",
   "execution_count": 39,
   "id": "93761609-abd4-4b1c-881e-7004b8f24366",
   "metadata": {},
   "outputs": [],
   "source": [
    "import seaborn as sns "
   ]
  },
  {
   "cell_type": "code",
   "execution_count": 41,
   "id": "25485117-a863-4d8b-9014-0ec0318e15fc",
   "metadata": {},
   "outputs": [
    {
     "data": {
      "text/html": [
       "<div>\n",
       "<style scoped>\n",
       "    .dataframe tbody tr th:only-of-type {\n",
       "        vertical-align: middle;\n",
       "    }\n",
       "\n",
       "    .dataframe tbody tr th {\n",
       "        vertical-align: top;\n",
       "    }\n",
       "\n",
       "    .dataframe thead th {\n",
       "        text-align: right;\n",
       "    }\n",
       "</style>\n",
       "<table border=\"1\" class=\"dataframe\">\n",
       "  <thead>\n",
       "    <tr style=\"text-align: right;\">\n",
       "      <th></th>\n",
       "      <th>mpg</th>\n",
       "      <th>cylinders</th>\n",
       "      <th>displacement</th>\n",
       "      <th>horsepower</th>\n",
       "      <th>weight</th>\n",
       "      <th>acceleration</th>\n",
       "      <th>model_year</th>\n",
       "      <th>origin</th>\n",
       "      <th>name</th>\n",
       "    </tr>\n",
       "  </thead>\n",
       "  <tbody>\n",
       "    <tr>\n",
       "      <th>0</th>\n",
       "      <td>18.0</td>\n",
       "      <td>8</td>\n",
       "      <td>307.0</td>\n",
       "      <td>130.0</td>\n",
       "      <td>3504</td>\n",
       "      <td>12.0</td>\n",
       "      <td>70</td>\n",
       "      <td>usa</td>\n",
       "      <td>chevrolet chevelle malibu</td>\n",
       "    </tr>\n",
       "    <tr>\n",
       "      <th>1</th>\n",
       "      <td>15.0</td>\n",
       "      <td>8</td>\n",
       "      <td>350.0</td>\n",
       "      <td>165.0</td>\n",
       "      <td>3693</td>\n",
       "      <td>11.5</td>\n",
       "      <td>70</td>\n",
       "      <td>usa</td>\n",
       "      <td>buick skylark 320</td>\n",
       "    </tr>\n",
       "    <tr>\n",
       "      <th>2</th>\n",
       "      <td>18.0</td>\n",
       "      <td>8</td>\n",
       "      <td>318.0</td>\n",
       "      <td>150.0</td>\n",
       "      <td>3436</td>\n",
       "      <td>11.0</td>\n",
       "      <td>70</td>\n",
       "      <td>usa</td>\n",
       "      <td>plymouth satellite</td>\n",
       "    </tr>\n",
       "    <tr>\n",
       "      <th>3</th>\n",
       "      <td>16.0</td>\n",
       "      <td>8</td>\n",
       "      <td>304.0</td>\n",
       "      <td>150.0</td>\n",
       "      <td>3433</td>\n",
       "      <td>12.0</td>\n",
       "      <td>70</td>\n",
       "      <td>usa</td>\n",
       "      <td>amc rebel sst</td>\n",
       "    </tr>\n",
       "    <tr>\n",
       "      <th>4</th>\n",
       "      <td>17.0</td>\n",
       "      <td>8</td>\n",
       "      <td>302.0</td>\n",
       "      <td>140.0</td>\n",
       "      <td>3449</td>\n",
       "      <td>10.5</td>\n",
       "      <td>70</td>\n",
       "      <td>usa</td>\n",
       "      <td>ford torino</td>\n",
       "    </tr>\n",
       "    <tr>\n",
       "      <th>...</th>\n",
       "      <td>...</td>\n",
       "      <td>...</td>\n",
       "      <td>...</td>\n",
       "      <td>...</td>\n",
       "      <td>...</td>\n",
       "      <td>...</td>\n",
       "      <td>...</td>\n",
       "      <td>...</td>\n",
       "      <td>...</td>\n",
       "    </tr>\n",
       "    <tr>\n",
       "      <th>393</th>\n",
       "      <td>27.0</td>\n",
       "      <td>4</td>\n",
       "      <td>140.0</td>\n",
       "      <td>86.0</td>\n",
       "      <td>2790</td>\n",
       "      <td>15.6</td>\n",
       "      <td>82</td>\n",
       "      <td>usa</td>\n",
       "      <td>ford mustang gl</td>\n",
       "    </tr>\n",
       "    <tr>\n",
       "      <th>394</th>\n",
       "      <td>44.0</td>\n",
       "      <td>4</td>\n",
       "      <td>97.0</td>\n",
       "      <td>52.0</td>\n",
       "      <td>2130</td>\n",
       "      <td>24.6</td>\n",
       "      <td>82</td>\n",
       "      <td>europe</td>\n",
       "      <td>vw pickup</td>\n",
       "    </tr>\n",
       "    <tr>\n",
       "      <th>395</th>\n",
       "      <td>32.0</td>\n",
       "      <td>4</td>\n",
       "      <td>135.0</td>\n",
       "      <td>84.0</td>\n",
       "      <td>2295</td>\n",
       "      <td>11.6</td>\n",
       "      <td>82</td>\n",
       "      <td>usa</td>\n",
       "      <td>dodge rampage</td>\n",
       "    </tr>\n",
       "    <tr>\n",
       "      <th>396</th>\n",
       "      <td>28.0</td>\n",
       "      <td>4</td>\n",
       "      <td>120.0</td>\n",
       "      <td>79.0</td>\n",
       "      <td>2625</td>\n",
       "      <td>18.6</td>\n",
       "      <td>82</td>\n",
       "      <td>usa</td>\n",
       "      <td>ford ranger</td>\n",
       "    </tr>\n",
       "    <tr>\n",
       "      <th>397</th>\n",
       "      <td>31.0</td>\n",
       "      <td>4</td>\n",
       "      <td>119.0</td>\n",
       "      <td>82.0</td>\n",
       "      <td>2720</td>\n",
       "      <td>19.4</td>\n",
       "      <td>82</td>\n",
       "      <td>usa</td>\n",
       "      <td>chevy s-10</td>\n",
       "    </tr>\n",
       "  </tbody>\n",
       "</table>\n",
       "<p>398 rows × 9 columns</p>\n",
       "</div>"
      ],
      "text/plain": [
       "      mpg  cylinders  displacement  horsepower  weight  acceleration  \\\n",
       "0    18.0          8         307.0       130.0    3504          12.0   \n",
       "1    15.0          8         350.0       165.0    3693          11.5   \n",
       "2    18.0          8         318.0       150.0    3436          11.0   \n",
       "3    16.0          8         304.0       150.0    3433          12.0   \n",
       "4    17.0          8         302.0       140.0    3449          10.5   \n",
       "..    ...        ...           ...         ...     ...           ...   \n",
       "393  27.0          4         140.0        86.0    2790          15.6   \n",
       "394  44.0          4          97.0        52.0    2130          24.6   \n",
       "395  32.0          4         135.0        84.0    2295          11.6   \n",
       "396  28.0          4         120.0        79.0    2625          18.6   \n",
       "397  31.0          4         119.0        82.0    2720          19.4   \n",
       "\n",
       "     model_year  origin                       name  \n",
       "0            70     usa  chevrolet chevelle malibu  \n",
       "1            70     usa          buick skylark 320  \n",
       "2            70     usa         plymouth satellite  \n",
       "3            70     usa              amc rebel sst  \n",
       "4            70     usa                ford torino  \n",
       "..          ...     ...                        ...  \n",
       "393          82     usa            ford mustang gl  \n",
       "394          82  europe                  vw pickup  \n",
       "395          82     usa              dodge rampage  \n",
       "396          82     usa                ford ranger  \n",
       "397          82     usa                 chevy s-10  \n",
       "\n",
       "[398 rows x 9 columns]"
      ]
     },
     "execution_count": 41,
     "metadata": {},
     "output_type": "execute_result"
    }
   ],
   "source": [
    "# Miles per gallon\n",
    "\n",
    "sns.load_dataset(\"mpg\")"
   ]
  },
  {
   "cell_type": "code",
   "execution_count": 42,
   "id": "d52430cc-e0ef-4c58-bd4d-bcfd5a67701f",
   "metadata": {},
   "outputs": [],
   "source": [
    " data = sns.load_dataset(\"mpg\") "
   ]
  },
  {
   "cell_type": "markdown",
   "id": "448fa205-4c83-4cf4-b523-6ed1a303426d",
   "metadata": {},
   "source": [
    "## Visual showing the relationship between horsepower and fuel economy."
   ]
  },
  {
   "cell_type": "code",
   "execution_count": 45,
   "id": "12eb620c-580d-4f0b-bbd0-09966956033a",
   "metadata": {},
   "outputs": [],
   "source": [
    "data = sns.load_dataset(\"mpg\")"
   ]
  },
  {
   "cell_type": "code",
   "execution_count": 46,
   "id": "8af0b061-50c1-43aa-b6b3-042ffa82c505",
   "metadata": {},
   "outputs": [
    {
     "data": {
      "text/plain": [
       "<Axes: xlabel='horsepower', ylabel='mpg'>"
      ]
     },
     "execution_count": 46,
     "metadata": {},
     "output_type": "execute_result"
    },
    {
     "data": {
      "image/png": "[encoded data removed]",
      "text/plain": [
       "<Figure size 640x480 with 1 Axes>"
      ]
     },
     "metadata": {},
     "output_type": "display_data"
    }
   ],
   "source": [
    "sns.scatterplot(data=data, x=\"horsepower\", y=\"mpg\")"
   ]
  },
  {
   "cell_type": "markdown",
   "id": "e2fd98bd-ef3c-4bdd-b4e8-6edda3d2f62c",
   "metadata": {},
   "source": [
    "#### As horsepower increases, miles per gallon tends to decrease, indicating lower fuel economy. This means that higher horsepower vehicles tend to consume more fuel, reducing overall efficiency."
   ]
  },
  {
   "cell_type": "markdown",
   "id": "9a6d351b-d934-448a-b651-ace1679bd96a",
   "metadata": {},
   "source": [
    "# Table summarizing fuel economy by country of origin."
   ]
  },
  {
   "cell_type": "code",
   "execution_count": 48,
   "id": "a547bb4a-5302-4c9f-91d2-ff5ebb9e498c",
   "metadata": {},
   "outputs": [
    {
     "data": {
      "text/html": [
       "<div>\n",
       "<style scoped>\n",
       "    .dataframe tbody tr th:only-of-type {\n",
       "        vertical-align: middle;\n",
       "    }\n",
       "\n",
       "    .dataframe tbody tr th {\n",
       "        vertical-align: top;\n",
       "    }\n",
       "\n",
       "    .dataframe thead tr th {\n",
       "        text-align: left;\n",
       "    }\n",
       "</style>\n",
       "<table border=\"1\" class=\"dataframe\">\n",
       "  <thead>\n",
       "    <tr>\n",
       "      <th></th>\n",
       "      <th>origin</th>\n",
       "      <th colspan=\"3\" halign=\"left\">mpg</th>\n",
       "    </tr>\n",
       "    <tr>\n",
       "      <th></th>\n",
       "      <th></th>\n",
       "      <th>mean</th>\n",
       "      <th>median</th>\n",
       "      <th>sum</th>\n",
       "    </tr>\n",
       "  </thead>\n",
       "  <tbody>\n",
       "    <tr>\n",
       "      <th>0</th>\n",
       "      <td>europe</td>\n",
       "      <td>27.891429</td>\n",
       "      <td>26.5</td>\n",
       "      <td>1952.4</td>\n",
       "    </tr>\n",
       "    <tr>\n",
       "      <th>1</th>\n",
       "      <td>japan</td>\n",
       "      <td>30.450633</td>\n",
       "      <td>31.6</td>\n",
       "      <td>2405.6</td>\n",
       "    </tr>\n",
       "    <tr>\n",
       "      <th>2</th>\n",
       "      <td>usa</td>\n",
       "      <td>20.083534</td>\n",
       "      <td>18.5</td>\n",
       "      <td>5000.8</td>\n",
       "    </tr>\n",
       "  </tbody>\n",
       "</table>\n",
       "</div>"
      ],
      "text/plain": [
       "   origin        mpg               \n",
       "                mean median     sum\n",
       "0  europe  27.891429   26.5  1952.4\n",
       "1   japan  30.450633   31.6  2405.6\n",
       "2     usa  20.083534   18.5  5000.8"
      ]
     },
     "execution_count": 48,
     "metadata": {},
     "output_type": "execute_result"
    }
   ],
   "source": [
    "data.groupby(\"origin\").agg({\"mpg\": [\"mean\", \"median\", \"sum\"]}).reset_index()\n"
   ]
  },
  {
   "cell_type": "markdown",
   "id": "4d92ac22-d3a3-4d77-9964-2d64245f66a5",
   "metadata": {},
   "source": [
    "#### On average, Japan has the most efficient fuel economy at 30.45 MPG, followed by Europe at 27.89 MPG, and the USA at 20.08 MPG."
   ]
  },
  {
   "cell_type": "code",
   "execution_count": null,
   "id": "f3bd1953-921a-4d75-8329-bf705e9d84f8",
   "metadata": {},
   "outputs": [],
   "source": []
  },
  {
   "cell_type": "markdown",
   "id": "79a16b74-a8b6-49ad-8107-7a5335fd64d6",
   "metadata": {},
   "source": [
    "# Visual showing how fuel economy has changed over time."
   ]
  },
  {
   "cell_type": "code",
   "execution_count": 23,
   "id": "4e0a73fd-63a5-4d96-be3d-59383c3deedf",
   "metadata": {},
   "outputs": [
    {
     "data": {
      "text/plain": [
       "<seaborn.axisgrid.FacetGrid at 0x2c370831760>"
      ]
     },
     "execution_count": 23,
     "metadata": {},
     "output_type": "execute_result"
    },
    {
     "data": {
      "image/png": "[encoded data removed]",
      "text/plain": [
       "<Figure size 511.111x500 with 1 Axes>"
      ]
     },
     "metadata": {},
     "output_type": "display_data"
    }
   ],
   "source": [
    "sns.catplot(data=data, x=\"model_year\", y=\"mpg\", kind=\"bar\",errorbar= None)"
   ]
  },
  {
   "cell_type": "code",
   "execution_count": 28,
   "id": "09eab3dd-f704-43c7-8df6-0873653c6cbc",
   "metadata": {},
   "outputs": [
    {
     "data": {
      "text/plain": [
       "<Axes: xlabel='model_year', ylabel='mpg'>"
      ]
     },
     "execution_count": 28,
     "metadata": {},
     "output_type": "execute_result"
    },
    {
     "data": {
      "image/png": "[encoded data removed]",
      "text/plain": [
       "<Figure size 640x480 with 1 Axes>"
      ]
     },
     "metadata": {},
     "output_type": "display_data"
    }
   ],
   "source": [
    "sns.lineplot(data=data, x=\"model_year\", y=\"mpg\", color=\"blue\", marker=\"o\", sort=False)"
   ]
  },
  {
   "cell_type": "markdown",
   "id": "0784f810-c174-467d-9bce-5e3888e4c055",
   "metadata": {},
   "source": [
    "#### Over time, as the model year has progressed, miles per gallon (MPG) has steadily increased, meaning fuel economy has become more efficient."
   ]
  },
  {
   "cell_type": "code",
   "execution_count": null,
   "id": "c4081a68-c32b-4cd5-8da6-078fcecbf4ef",
   "metadata": {},
   "outputs": [],
   "source": []
  },
  {
   "cell_type": "markdown",
   "id": "cf72cbeb-fe0c-459c-a831-f00e57b5edbe",
   "metadata": {},
   "source": [
    "# Visualizing vehicle weight and its relationship to fuel economy."
   ]
  },
  {
   "cell_type": "code",
   "execution_count": 33,
   "id": "a3ae0f1c-e011-4205-81ba-52827eb2286b",
   "metadata": {},
   "outputs": [
    {
     "data": {
      "text/plain": [
       "<Axes: xlabel='weight', ylabel='mpg'>"
      ]
     },
     "execution_count": 33,
     "metadata": {},
     "output_type": "execute_result"
    },
    {
     "data": {
      "image/png": "[encoded data removed]",
      "text/plain": [
       "<Figure size 640x480 with 1 Axes>"
      ]
     },
     "metadata": {},
     "output_type": "display_data"
    }
   ],
   "source": [
    "sns.scatterplot(data=data, x=\"weight\", y=\"mpg\", color=\"red\")"
   ]
  },
  {
   "cell_type": "markdown",
   "id": "8cba13f3-fdc4-4bf1-83d2-138e9d16ffb5",
   "metadata": {},
   "source": [
    "#### Unlike horsepower and fuel economy, as the weight of vehicles increases, miles per gallon (MPG) tends to decrease, suggesting a potential inverse relationship between weight and fuel economy.Due to the fact more weight generally reduces fuel efficiency, not increases it.\n"
   ]
  },
  {
   "cell_type": "code",
   "execution_count": null,
   "id": "58153e5f-4caf-4fdf-87c1-cf665cf948af",
   "metadata": {},
   "outputs": [],
   "source": []
  },
  {
   "cell_type": "markdown",
   "id": "6b93a335-2113-4781-9e5b-2d6e6fe16a47",
   "metadata": {},
   "source": [
    "# Analysis of vehicles with the highest miles per gallon (MPG) and their impact on fuel economy."
   ]
  },
  {
   "cell_type": "code",
   "execution_count": 40,
   "id": "07cc0e48-29b5-49ae-8678-90b782d7e3f4",
   "metadata": {},
   "outputs": [
    {
     "data": {
      "text/html": [
       "<div>\n",
       "<style scoped>\n",
       "    .dataframe tbody tr th:only-of-type {\n",
       "        vertical-align: middle;\n",
       "    }\n",
       "\n",
       "    .dataframe tbody tr th {\n",
       "        vertical-align: top;\n",
       "    }\n",
       "\n",
       "    .dataframe thead th {\n",
       "        text-align: right;\n",
       "    }\n",
       "</style>\n",
       "<table border=\"1\" class=\"dataframe\">\n",
       "  <thead>\n",
       "    <tr style=\"text-align: right;\">\n",
       "      <th></th>\n",
       "      <th>name</th>\n",
       "      <th>mpg</th>\n",
       "    </tr>\n",
       "  </thead>\n",
       "  <tbody>\n",
       "    <tr>\n",
       "      <th>0</th>\n",
       "      <td>amc ambassador brougham</td>\n",
       "      <td>13.00</td>\n",
       "    </tr>\n",
       "    <tr>\n",
       "      <th>1</th>\n",
       "      <td>amc ambassador dpl</td>\n",
       "      <td>15.00</td>\n",
       "    </tr>\n",
       "    <tr>\n",
       "      <th>2</th>\n",
       "      <td>amc ambassador sst</td>\n",
       "      <td>17.00</td>\n",
       "    </tr>\n",
       "    <tr>\n",
       "      <th>3</th>\n",
       "      <td>amc concord</td>\n",
       "      <td>21.85</td>\n",
       "    </tr>\n",
       "    <tr>\n",
       "      <th>4</th>\n",
       "      <td>amc concord d/l</td>\n",
       "      <td>18.10</td>\n",
       "    </tr>\n",
       "    <tr>\n",
       "      <th>...</th>\n",
       "      <td>...</td>\n",
       "      <td>...</td>\n",
       "    </tr>\n",
       "    <tr>\n",
       "      <th>300</th>\n",
       "      <td>vw dasher (diesel)</td>\n",
       "      <td>43.40</td>\n",
       "    </tr>\n",
       "    <tr>\n",
       "      <th>301</th>\n",
       "      <td>vw pickup</td>\n",
       "      <td>44.00</td>\n",
       "    </tr>\n",
       "    <tr>\n",
       "      <th>302</th>\n",
       "      <td>vw rabbit</td>\n",
       "      <td>35.25</td>\n",
       "    </tr>\n",
       "    <tr>\n",
       "      <th>303</th>\n",
       "      <td>vw rabbit c (diesel)</td>\n",
       "      <td>44.30</td>\n",
       "    </tr>\n",
       "    <tr>\n",
       "      <th>304</th>\n",
       "      <td>vw rabbit custom</td>\n",
       "      <td>31.90</td>\n",
       "    </tr>\n",
       "  </tbody>\n",
       "</table>\n",
       "<p>305 rows × 2 columns</p>\n",
       "</div>"
      ],
      "text/plain": [
       "                        name    mpg\n",
       "0    amc ambassador brougham  13.00\n",
       "1         amc ambassador dpl  15.00\n",
       "2         amc ambassador sst  17.00\n",
       "3                amc concord  21.85\n",
       "4            amc concord d/l  18.10\n",
       "..                       ...    ...\n",
       "300       vw dasher (diesel)  43.40\n",
       "301                vw pickup  44.00\n",
       "302                vw rabbit  35.25\n",
       "303     vw rabbit c (diesel)  44.30\n",
       "304         vw rabbit custom  31.90\n",
       "\n",
       "[305 rows x 2 columns]"
      ]
     },
     "execution_count": 40,
     "metadata": {},
     "output_type": "execute_result"
    }
   ],
   "source": [
    "\n",
    "data.groupby(\"name\").agg({\"mpg\":\"mean\"}).reset_index()"
   ]
  },
  {
   "cell_type": "markdown",
   "id": "2293b210-c4ba-4eda-a914-6dbbddc1a1f8",
   "metadata": {},
   "source": [
    "##### Vehicles with the highest MPG, like the VW Rabbit C Diesel (44.3 MPG) and VW Pickup (44.0 MPG), significantly outperform others in fuel economy, highlighting the impact of efficient engineering, especially with diesel models. These cars demonstrate the potential for reducing fuel consumption and costs, which is especially beneficial for long-term use and environmental sustainability."
   ]
  },
  {
   "cell_type": "markdown",
   "id": "7766d102-ee60-4deb-88aa-28c52f949ed4",
   "metadata": {},
   "source": [
    "# Ranking Table / Visual : Listing  the top 10 cars with the best MPG and their corresponding weight, horsepower, and origin."
   ]
  },
  {
   "cell_type": "code",
   "execution_count": 7,
   "id": "5faf043c-bab2-4932-a921-b7265cc14c78",
   "metadata": {},
   "outputs": [
    {
     "data": {
      "text/html": [
       "<div>\n",
       "<style scoped>\n",
       "    .dataframe tbody tr th:only-of-type {\n",
       "        vertical-align: middle;\n",
       "    }\n",
       "\n",
       "    .dataframe tbody tr th {\n",
       "        vertical-align: top;\n",
       "    }\n",
       "\n",
       "    .dataframe thead th {\n",
       "        text-align: right;\n",
       "    }\n",
       "</style>\n",
       "<table border=\"1\" class=\"dataframe\">\n",
       "  <thead>\n",
       "    <tr style=\"text-align: right;\">\n",
       "      <th></th>\n",
       "      <th>mpg</th>\n",
       "      <th>cylinders</th>\n",
       "      <th>displacement</th>\n",
       "      <th>horsepower</th>\n",
       "      <th>weight</th>\n",
       "      <th>acceleration</th>\n",
       "      <th>model_year</th>\n",
       "      <th>origin</th>\n",
       "      <th>name</th>\n",
       "    </tr>\n",
       "  </thead>\n",
       "  <tbody>\n",
       "    <tr>\n",
       "      <th>0</th>\n",
       "      <td>18.0</td>\n",
       "      <td>8</td>\n",
       "      <td>307.0</td>\n",
       "      <td>130.0</td>\n",
       "      <td>3504</td>\n",
       "      <td>12.0</td>\n",
       "      <td>70</td>\n",
       "      <td>usa</td>\n",
       "      <td>chevrolet chevelle malibu</td>\n",
       "    </tr>\n",
       "    <tr>\n",
       "      <th>1</th>\n",
       "      <td>15.0</td>\n",
       "      <td>8</td>\n",
       "      <td>350.0</td>\n",
       "      <td>165.0</td>\n",
       "      <td>3693</td>\n",
       "      <td>11.5</td>\n",
       "      <td>70</td>\n",
       "      <td>usa</td>\n",
       "      <td>buick skylark 320</td>\n",
       "    </tr>\n",
       "    <tr>\n",
       "      <th>2</th>\n",
       "      <td>18.0</td>\n",
       "      <td>8</td>\n",
       "      <td>318.0</td>\n",
       "      <td>150.0</td>\n",
       "      <td>3436</td>\n",
       "      <td>11.0</td>\n",
       "      <td>70</td>\n",
       "      <td>usa</td>\n",
       "      <td>plymouth satellite</td>\n",
       "    </tr>\n",
       "    <tr>\n",
       "      <th>3</th>\n",
       "      <td>16.0</td>\n",
       "      <td>8</td>\n",
       "      <td>304.0</td>\n",
       "      <td>150.0</td>\n",
       "      <td>3433</td>\n",
       "      <td>12.0</td>\n",
       "      <td>70</td>\n",
       "      <td>usa</td>\n",
       "      <td>amc rebel sst</td>\n",
       "    </tr>\n",
       "    <tr>\n",
       "      <th>4</th>\n",
       "      <td>17.0</td>\n",
       "      <td>8</td>\n",
       "      <td>302.0</td>\n",
       "      <td>140.0</td>\n",
       "      <td>3449</td>\n",
       "      <td>10.5</td>\n",
       "      <td>70</td>\n",
       "      <td>usa</td>\n",
       "      <td>ford torino</td>\n",
       "    </tr>\n",
       "  </tbody>\n",
       "</table>\n",
       "</div>"
      ],
      "text/plain": [
       "    mpg  cylinders  displacement  horsepower  weight  acceleration  \\\n",
       "0  18.0          8         307.0       130.0    3504          12.0   \n",
       "1  15.0          8         350.0       165.0    3693          11.5   \n",
       "2  18.0          8         318.0       150.0    3436          11.0   \n",
       "3  16.0          8         304.0       150.0    3433          12.0   \n",
       "4  17.0          8         302.0       140.0    3449          10.5   \n",
       "\n",
       "   model_year origin                       name  \n",
       "0          70    usa  chevrolet chevelle malibu  \n",
       "1          70    usa          buick skylark 320  \n",
       "2          70    usa         plymouth satellite  \n",
       "3          70    usa              amc rebel sst  \n",
       "4          70    usa                ford torino  "
      ]
     },
     "execution_count": 7,
     "metadata": {},
     "output_type": "execute_result"
    }
   ],
   "source": [
    "data.head()"
   ]
  },
  {
   "cell_type": "code",
   "execution_count": 11,
   "id": "573ebd06-7038-43cf-9635-59b3287c7647",
   "metadata": {},
   "outputs": [
    {
     "data": {
      "text/plain": [
       "name\n",
       "mazda glc                          46.6\n",
       "honda civic 1500 gl                44.6\n",
       "vw rabbit c (diesel)               44.3\n",
       "vw pickup                          44.0\n",
       "vw dasher (diesel)                 43.4\n",
       "volkswagen rabbit custom diesel    43.1\n",
       "vw rabbit                          41.5\n",
       "renault lecar deluxe               40.9\n",
       "datsun 210                         40.8\n",
       "datsun b210 gx                     39.4\n",
       "Name: mpg, dtype: float64"
      ]
     },
     "execution_count": 11,
     "metadata": {},
     "output_type": "execute_result"
    }
   ],
   "source": [
    "data.groupby(by=\"name\")[\"mpg\"].max().sort_values(ascending = False) .head(10)"
   ]
  },
  {
   "cell_type": "code",
   "execution_count": 12,
   "id": "9015e611-e0bd-4f76-986e-060421a8a861",
   "metadata": {},
   "outputs": [],
   "source": [
    "Top_10_cars =  data.groupby(by=\"name\")[\"mpg\"].max().sort_values(ascending = False) .head(10)"
   ]
  },
  {
   "cell_type": "code",
   "execution_count": 13,
   "id": "29d1c579-3264-4c01-a919-220a9bd2ca82",
   "metadata": {},
   "outputs": [
    {
     "data": {
      "text/plain": [
       "name\n",
       "mazda glc                          46.6\n",
       "honda civic 1500 gl                44.6\n",
       "vw rabbit c (diesel)               44.3\n",
       "vw pickup                          44.0\n",
       "vw dasher (diesel)                 43.4\n",
       "volkswagen rabbit custom diesel    43.1\n",
       "vw rabbit                          41.5\n",
       "renault lecar deluxe               40.9\n",
       "datsun 210                         40.8\n",
       "datsun b210 gx                     39.4\n",
       "Name: mpg, dtype: float64"
      ]
     },
     "execution_count": 13,
     "metadata": {},
     "output_type": "execute_result"
    }
   ],
   "source": [
    "Top_10_cars"
   ]
  },
  {
   "cell_type": "code",
   "execution_count": 15,
   "id": "dd5734aa-bee2-448b-a244-db9e9881ef06",
   "metadata": {},
   "outputs": [
    {
     "data": {
      "text/html": [
       "<div>\n",
       "<style scoped>\n",
       "    .dataframe tbody tr th:only-of-type {\n",
       "        vertical-align: middle;\n",
       "    }\n",
       "\n",
       "    .dataframe tbody tr th {\n",
       "        vertical-align: top;\n",
       "    }\n",
       "\n",
       "    .dataframe thead th {\n",
       "        text-align: right;\n",
       "    }\n",
       "</style>\n",
       "<table border=\"1\" class=\"dataframe\">\n",
       "  <thead>\n",
       "    <tr style=\"text-align: right;\">\n",
       "      <th></th>\n",
       "      <th>name</th>\n",
       "      <th>mpg</th>\n",
       "    </tr>\n",
       "  </thead>\n",
       "  <tbody>\n",
       "    <tr>\n",
       "      <th>0</th>\n",
       "      <td>mazda glc</td>\n",
       "      <td>46.6</td>\n",
       "    </tr>\n",
       "    <tr>\n",
       "      <th>1</th>\n",
       "      <td>honda civic 1500 gl</td>\n",
       "      <td>44.6</td>\n",
       "    </tr>\n",
       "    <tr>\n",
       "      <th>2</th>\n",
       "      <td>vw rabbit c (diesel)</td>\n",
       "      <td>44.3</td>\n",
       "    </tr>\n",
       "    <tr>\n",
       "      <th>3</th>\n",
       "      <td>vw pickup</td>\n",
       "      <td>44.0</td>\n",
       "    </tr>\n",
       "    <tr>\n",
       "      <th>4</th>\n",
       "      <td>vw dasher (diesel)</td>\n",
       "      <td>43.4</td>\n",
       "    </tr>\n",
       "    <tr>\n",
       "      <th>5</th>\n",
       "      <td>volkswagen rabbit custom diesel</td>\n",
       "      <td>43.1</td>\n",
       "    </tr>\n",
       "    <tr>\n",
       "      <th>6</th>\n",
       "      <td>vw rabbit</td>\n",
       "      <td>41.5</td>\n",
       "    </tr>\n",
       "    <tr>\n",
       "      <th>7</th>\n",
       "      <td>renault lecar deluxe</td>\n",
       "      <td>40.9</td>\n",
       "    </tr>\n",
       "    <tr>\n",
       "      <th>8</th>\n",
       "      <td>datsun 210</td>\n",
       "      <td>40.8</td>\n",
       "    </tr>\n",
       "    <tr>\n",
       "      <th>9</th>\n",
       "      <td>datsun b210 gx</td>\n",
       "      <td>39.4</td>\n",
       "    </tr>\n",
       "  </tbody>\n",
       "</table>\n",
       "</div>"
      ],
      "text/plain": [
       "                              name   mpg\n",
       "0                        mazda glc  46.6\n",
       "1              honda civic 1500 gl  44.6\n",
       "2             vw rabbit c (diesel)  44.3\n",
       "3                        vw pickup  44.0\n",
       "4               vw dasher (diesel)  43.4\n",
       "5  volkswagen rabbit custom diesel  43.1\n",
       "6                        vw rabbit  41.5\n",
       "7             renault lecar deluxe  40.9\n",
       "8                       datsun 210  40.8\n",
       "9                   datsun b210 gx  39.4"
      ]
     },
     "execution_count": 15,
     "metadata": {},
     "output_type": "execute_result"
    }
   ],
   "source": [
    "Top_10_cars.reset_index()"
   ]
  },
  {
   "cell_type": "code",
   "execution_count": 21,
   "id": "12a0540b-f235-4a24-b8eb-e46c7cab5dcd",
   "metadata": {},
   "outputs": [],
   "source": [
    "# Convert to  data frame \n",
    "\n",
    "Top_10_cars_df = Top_10_cars.reset_index()\n"
   ]
  },
  {
   "cell_type": "code",
   "execution_count": null,
   "id": "09bc06fa-1ee3-42b7-b81d-d1b7ad550ff4",
   "metadata": {},
   "outputs": [],
   "source": []
  },
  {
   "cell_type": "code",
   "execution_count": 25,
   "id": "83de70ad-67a7-4166-b47e-70bb9129a057",
   "metadata": {},
   "outputs": [
    {
     "data": {
      "text/plain": [
       "<seaborn.axisgrid.FacetGrid at 0x1af739651c0>"
      ]
     },
     "execution_count": 25,
     "metadata": {},
     "output_type": "execute_result"
    },
    {
     "data": {
      "image/png": "[encoded data removed]",
      "text/plain": [
       "<Figure size 511.111x500 with 1 Axes>"
      ]
     },
     "metadata": {},
     "output_type": "display_data"
    }
   ],
   "source": [
    "sns.catplot(data=Top_10_cars_df , x=\"mpg\", y=\"name\", kind = \"bar\", color = \"yellow\") "
   ]
  },
  {
   "cell_type": "markdown",
   "id": "a83c4136-8e32-4e4e-887a-2c68b1500c7d",
   "metadata": {},
   "source": [
    "##### Volkswagen leads with several models like the Rabbit and Dasher (diesel), all getting over 40 MPG. The Mazda GLC is the most efficient at 46.6 MPG, followed by the Honda Civic 1500 GL at 44.6 MPG. Other efficient cars include the Renault LeCar, Datsun 210, and Datsun B210 GX, showing strong fuel economy from both European and Japanese brands."
   ]
  },
  {
   "cell_type": "markdown",
   "id": "7c3aebc6-8862-4bc1-85d2-1704dfe05d5d",
   "metadata": {},
   "source": [
    "##### The Mazda GLC is the top performer with 46.6 MPG, followed by the Honda Civic 1500 GL at 44.6 MPG. Several Volkswagen models, like the Rabbit C Diesel (44.3 MPG) and Pickup (44.0 MPG), also stand out for fuel efficiency. Other notable cars include the Renault LeCar Deluxe (40.9 MPG), Datsun 210 (40.8 MPG), and Datsun B210 GX (39.4 MPG)."
   ]
  },
  {
   "cell_type": "code",
   "execution_count": null,
   "id": "88ac344a-a1e4-4b72-b91c-21e2ac1e642e",
   "metadata": {},
   "outputs": [],
   "source": []
  },
  {
   "cell_type": "markdown",
   "id": "9c88d021-0407-41e7-8742-a55021414d05",
   "metadata": {},
   "source": [
    "#  Visual Correlation between acceleration and MPG "
   ]
  },
  {
   "cell_type": "code",
   "execution_count": 37,
   "id": "ebc0f15f-c81f-44d3-925e-dd0563f1ed2f",
   "metadata": {},
   "outputs": [
    {
     "data": {
      "text/html": [
       "<div>\n",
       "<style scoped>\n",
       "    .dataframe tbody tr th:only-of-type {\n",
       "        vertical-align: middle;\n",
       "    }\n",
       "\n",
       "    .dataframe tbody tr th {\n",
       "        vertical-align: top;\n",
       "    }\n",
       "\n",
       "    .dataframe thead th {\n",
       "        text-align: right;\n",
       "    }\n",
       "</style>\n",
       "<table border=\"1\" class=\"dataframe\">\n",
       "  <thead>\n",
       "    <tr style=\"text-align: right;\">\n",
       "      <th></th>\n",
       "      <th>acceleration</th>\n",
       "      <th>mpg</th>\n",
       "    </tr>\n",
       "  </thead>\n",
       "  <tbody>\n",
       "    <tr>\n",
       "      <th>0</th>\n",
       "      <td>12.0</td>\n",
       "      <td>18.0</td>\n",
       "    </tr>\n",
       "    <tr>\n",
       "      <th>1</th>\n",
       "      <td>11.5</td>\n",
       "      <td>15.0</td>\n",
       "    </tr>\n",
       "    <tr>\n",
       "      <th>2</th>\n",
       "      <td>11.0</td>\n",
       "      <td>18.0</td>\n",
       "    </tr>\n",
       "    <tr>\n",
       "      <th>3</th>\n",
       "      <td>12.0</td>\n",
       "      <td>16.0</td>\n",
       "    </tr>\n",
       "    <tr>\n",
       "      <th>4</th>\n",
       "      <td>10.5</td>\n",
       "      <td>17.0</td>\n",
       "    </tr>\n",
       "    <tr>\n",
       "      <th>...</th>\n",
       "      <td>...</td>\n",
       "      <td>...</td>\n",
       "    </tr>\n",
       "    <tr>\n",
       "      <th>393</th>\n",
       "      <td>15.6</td>\n",
       "      <td>27.0</td>\n",
       "    </tr>\n",
       "    <tr>\n",
       "      <th>394</th>\n",
       "      <td>24.6</td>\n",
       "      <td>44.0</td>\n",
       "    </tr>\n",
       "    <tr>\n",
       "      <th>395</th>\n",
       "      <td>11.6</td>\n",
       "      <td>32.0</td>\n",
       "    </tr>\n",
       "    <tr>\n",
       "      <th>396</th>\n",
       "      <td>18.6</td>\n",
       "      <td>28.0</td>\n",
       "    </tr>\n",
       "    <tr>\n",
       "      <th>397</th>\n",
       "      <td>19.4</td>\n",
       "      <td>31.0</td>\n",
       "    </tr>\n",
       "  </tbody>\n",
       "</table>\n",
       "<p>398 rows × 2 columns</p>\n",
       "</div>"
      ],
      "text/plain": [
       "     acceleration   mpg\n",
       "0            12.0  18.0\n",
       "1            11.5  15.0\n",
       "2            11.0  18.0\n",
       "3            12.0  16.0\n",
       "4            10.5  17.0\n",
       "..            ...   ...\n",
       "393          15.6  27.0\n",
       "394          24.6  44.0\n",
       "395          11.6  32.0\n",
       "396          18.6  28.0\n",
       "397          19.4  31.0\n",
       "\n",
       "[398 rows x 2 columns]"
      ]
     },
     "execution_count": 37,
     "metadata": {},
     "output_type": "execute_result"
    }
   ],
   "source": [
    "\n",
    "data[[\"acceleration\", \"mpg\"]]"
   ]
  },
  {
   "cell_type": "code",
   "execution_count": 32,
   "id": "355525af-7605-4a54-8024-bbd3b86c8610",
   "metadata": {},
   "outputs": [
    {
     "data": {
      "text/plain": [
       "<seaborn.axisgrid.FacetGrid at 0x1af737f26f0>"
      ]
     },
     "execution_count": 32,
     "metadata": {},
     "output_type": "execute_result"
    },
    {
     "data": {
      "image/png": "[encoded data removed]",
      "text/plain": [
       "<Figure size 500x500 with 1 Axes>"
      ]
     },
     "metadata": {},
     "output_type": "display_data"
    }
   ],
   "source": [
    "sns.relplot(data=data, x= \"acceleration\" ,y=\"mpg\", kind = \"scatter\" )"
   ]
  },
  {
   "cell_type": "markdown",
   "id": "17e8a7ab-4324-406c-b0d3-a5de325c34ac",
   "metadata": {},
   "source": [
    "#### There is no clear correlation between acceleration and MPG. The scatter plot showing these two variables appears to be spread out without any obvious trend or pattern."
   ]
  },
  {
   "cell_type": "markdown",
   "id": "d558deba-956b-48b4-adca-a4db97e25273",
   "metadata": {},
   "source": [
    "#### This suggests that acceleration does not significantly impact fuel efficiency. Other factors, such as engine size, weight, and driving conditions, may play a more significant role."
   ]
  },
  {
   "cell_type": "code",
   "execution_count": null,
   "id": "861ce736-acc5-4b32-8c94-79969617b9cd",
   "metadata": {},
   "outputs": [],
   "source": []
  }
 ],
 "metadata": {
  "kernelspec": {
   "display_name": "Python 3 (ipykernel)",
   "language": "python",
   "name": "python3"
  },
  "language_info": {
   "codemirror_mode": {
    "name": "ipython",
    "version": 3
   },
   "file_extension": ".py",
   "mimetype": "text/x-python",
   "name": "python",
   "nbconvert_exporter": "python",
   "pygments_lexer": "ipython3",
   "version": "3.12.3"
  }
 },
 "nbformat": 4,
 "nbformat_minor": 5
}
